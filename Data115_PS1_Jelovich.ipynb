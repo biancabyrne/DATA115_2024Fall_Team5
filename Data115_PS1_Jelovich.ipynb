{
 "cells": [
  {
   "cell_type": "markdown",
   "id": "dc4529da-e982-4d07-8770-cce7f20b0b7f",
   "metadata": {},
   "source": [
    "# Name, Age, Cats, Dogs, Smoker, Siblings\n",
    "## -Dave, 31, 0, 0, no, 3\n",
    "## -Olaf, 76, 0, 0, yes, 6\n",
    "## -Carol, 44, 2, 0, no, 1\n",
    "## -Alisa, x, 0, 1, yes, 0"
   ]
  },
  {
   "cell_type": "code",
   "execution_count": null,
   "id": "8303c5d3-1a43-4ded-a71d-8688cc3d5775",
   "metadata": {},
   "outputs": [],
   "source": []
  },
  {
   "cell_type": "code",
   "execution_count": null,
   "id": "c96870ed-f834-4bb7-994e-a4e7c9133250",
   "metadata": {},
   "outputs": [],
   "source": []
  }
 ],
 "metadata": {
  "kernelspec": {
   "display_name": "Python 3 (ipykernel)",
   "language": "python",
   "name": "python3"
  },
  "language_info": {
   "codemirror_mode": {
    "name": "ipython",
    "version": 3
   },
   "file_extension": ".py",
   "mimetype": "text/x-python",
   "name": "python",
   "nbconvert_exporter": "python",
   "pygments_lexer": "ipython3",
   "version": "3.12.4"
  },
  "panel-cell-order": [
   "df9f45ba-1519-4a17-b95f-5e1070ceedfe"
  ]
 },
 "nbformat": 4,
 "nbformat_minor": 5
}
