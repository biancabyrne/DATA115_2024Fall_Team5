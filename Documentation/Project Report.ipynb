{
 "cells": [
  {
   "cell_type": "markdown",
   "id": "26079069-6912-40d1-ab5e-d98de2c98881",
   "metadata": {},
   "source": [
    "# 3.3 Project Report\n",
    "By December 13 you are required to submit your final project report as a .pdf file and the Jupyter notebook file (used for the coding in Python). The report should thoroughly describe your experiences and analysis, as though you were reporting the results of this project to a manager or supervisor. The following information should be contained in the report, as well as appropriate figures from the analysis incorporated into the text of your markdown file:"
   ]
  },
  {
   "cell_type": "markdown",
   "id": "2966a061-4524-4d0b-ae37-a31900b4efa6",
   "metadata": {},
   "source": [
    "_PROJECT PROPOSAL:_ For our project, we will be working with the video game sales dataset to examine video game genre popularity trends by decade, as well as how that popularity varies by region. The dataset we will be utilizing consists of 11 columns and 16,600 rows. The rows each represent a video game with sales greater than 100,000 copies and the columns consist of ranking of overall sales, the name of the video game, release platform, release year, game genre, game publisher, 4 columns representing sales in different regions of the world, and total global sales. Our intended research questions are as follows: How has video game genre popularity evolved by decade since 1980? How does genre popularity vary between different regions? We plan to import the dataset into Jupyter notebook and utilize the pandas, matplotlib, numpy and seaborn libraries to create histograms, box plots, and other useful visualizations to help observe trends and display our findings. Upon initially looking through the data, we noted that it is comprehensive in the sheer number of video games the data was collected on, the diversity of genres included, as well as the timespan of release dates. "
   ]
  },
  {
   "cell_type": "markdown",
   "id": "db5bf93e-0236-492c-9cf9-abf888425118",
   "metadata": {},
   "source": [
    "## • A description of the dataset and the reasons why you selected it for the final project.\n",
    "### _Description of dataset_ \n",
    "#### The video game sales dataset consists of 11 columns and 16,600 rows. The rows each represent a video game with sales greater than 100,000 copies and the columns consist of ranking of overall sales, the name of the video game, release platform, release year, game genre, game publisher, 4 columns representing sales in different regions of the world, and total global sales.\n",
    "### _Reason for selection_ \n",
    "#### The dataset was selected due to the timespan of the data as well as the plethora of platforms and genres available for analysis"
   ]
  },
  {
   "cell_type": "markdown",
   "id": "cf92017e-76bf-47e0-a388-3c45224931f6",
   "metadata": {},
   "source": [
    "## • A summary of any processing problems you identified with the data and key steps you took to overcome those issues."
   ]
  },
  {
   "cell_type": "markdown",
   "id": "e8480f27-c0be-4872-a86a-6e84842f0721",
   "metadata": {},
   "source": [
    "#### Problems: Not all lines have year, so cannot group by decade - Clean data, remove lines altogether Year type is float, so cannot group categorically - Convert Year to String then extract first three characters to determine decade"
   ]
  },
  {
   "cell_type": "markdown",
   "id": "2f9626c0-510f-4dd5-8254-553d8b9fadaf",
   "metadata": {},
   "source": [
    "## • A statement on your ‘Big Question’ and the explanation why the dataset you chose is a good choice to answer it.\n",
    "#### To examine video game genre popularity trends by decade, as well as how that popularity varies by region. Our intended research questions are as follows: How has video game genre popularity evolved by decade since 1980? How does genre popularity vary between different regions?\n",
    "\n",
    "#### Q: How has video game genre popularity evolved by decade since 1980? - Line Chart, Stacked Bar Chart (genres by decade), zoomed line chart for each decade by year\n",
    "#### Q: Shooter genre trending higher in 2010s; how does it vary between different regions? - Bar Chart"
   ]
  },
  {
   "cell_type": "markdown",
   "id": "985da39f-0520-4627-abf2-9b7029a83012",
   "metadata": {},
   "source": [
    "## • A detailed description of the results of your exploratory analysis and what preliminary conclusions you were able to draw based on this analysis."
    "#### The results that we have found in your analysis was that in the 80s, 90s, and 00s. All the genres in video games all had the same type of graph in increasing the same and decreasing the same. But what we found was that in the 90s, the genre "Action" had the highest peak. But when the 2010s came, it decreased while the genre "Shooter" looked like it increased. We also noticed that the "Shooter" genre was more popular in the NA region and also the EU region, while the Japan region was not really interested in the "Shooter" genre and played "RPGs" or "Fighting Games." The conclusion we were able to draw off of this analysis was that, in the 80s arcade like games were more popular, while in the 90s they improved console systems and made gaming from home much better. What also made the popularity differ was that in the future decades there seems to have been a bigger play base which brought online gaming with friends in the 2000s and 2010s. The conclusion with the "Shooter" genre was that it may have increased in the 2010s but the popularity in different regions was varied, it was popular in the NA region and EU region, but not in the Japan region it would show limited growth.
]
  },
  {
   "cell_type": "markdown",
   "id": "c9366df2-5056-4ec4-95f4-6f664b11f3b9",
   "metadata": {},
   "source": [
    "## • The overview of the methodology for your analysis of the big question (the pros and cons of that method(s), any alternative methods you considered).\n",
    "#### We plan to import the dataset into Jupyter notebook and utilize the pandas, matplotlib, numpy and seaborn libraries to create histograms, box plots, and other useful visualizations to help observe trends and display our findings. Upon initially looking through the data, we noted that it is comprehensive in the sheer number of video games the data was collected on, the diversity of genres included, as well as the timespan of release dates."
   ]
  },
  {
   "cell_type": "markdown",
   "id": "0cbd3a1b-3a86-48d8-8f8c-dc45449e03bf",
   "metadata": {},
   "source": [
    "## • Your final conclusions based on your analysis."
   ]
  },
  {
   "cell_type": "markdown",
   "id": "17d853aa-4370-46da-bcc1-4e3cbee5ae9f",
   "metadata": {},
   "source": [
    "## • Prospective of the potential future research in this area: a short sketch of any additional analyses that you would have liked to carry out and any additional data that would have been needed in order to extend your analysis."
   ]
  },
  {
   "cell_type": "code",
   "execution_count": null,
   "id": "44614f67-ff49-4c97-8cf2-410c94b72275",
   "metadata": {},
   "outputs": [],
   "source": []
  }
 ],
 "metadata": {
  "kernelspec": {
   "display_name": "Python 3 (ipykernel)",
   "language": "python",
   "name": "python3"
  },
  "language_info": {
   "codemirror_mode": {
    "name": "ipython",
    "version": 3
   },
   "file_extension": ".py",
   "mimetype": "text/x-python",
   "name": "python",
   "nbconvert_exporter": "python",
   "pygments_lexer": "ipython3",
   "version": "3.12.4"
  }
 },
 "nbformat": 4,
 "nbformat_minor": 5
}
